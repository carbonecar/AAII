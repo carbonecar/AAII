{
 "cells": [
  {
   "cell_type": "code",
   "execution_count": 19,
   "id": "7d4e03e7",
   "metadata": {},
   "outputs": [],
   "source": [
    "import random"
   ]
  },
  {
   "cell_type": "code",
   "execution_count": 20,
   "id": "87c8771c",
   "metadata": {},
   "outputs": [
    {
     "name": "stdout",
     "output_type": "stream",
     "text": [
      "w0=  0.20 w1= -0.60 w2=  0.25\n"
     ]
    }
   ],
   "source": [
    "def show_learning(w): \n",
    "    print('w0=', '%5.2f' % w[0],  'w1=', '%5.2f' % w[1], 'w2=', '%5.2f' % w[2])\n",
    "\n",
    "random.seed(7)\n",
    "\n",
    "LEARNING_RATE = 0.1\n",
    "index_list=[0,1,2,3]\n",
    "\n",
    "\n",
    "x_train = [ (1.0,-1.0,1.0), (1.0,0.0,1.0), (1.0,1.0,1.0), (1.0,2.0,1.0) ]\n",
    "y_train = [ 1.0, 1.0, 1.0, -1.0 ]\n",
    "\n",
    "w=[0.2,-0.6,0.25]\n",
    "\n",
    "show_learning(w)"
   ]
  },
  {
   "cell_type": "code",
   "execution_count": 21,
   "id": "282652e5",
   "metadata": {},
   "outputs": [],
   "source": [
    "def compute_output(w,x):\n",
    "    z=0.0\n",
    "    for i in range(len(w)): \n",
    "        z+= w[i]*x[i]\n",
    "    if z<0: \n",
    "        return -1\n",
    "    else: \n",
    "        return 1"
   ]
  },
  {
   "cell_type": "markdown",
   "id": "9d87e176",
   "metadata": {},
   "source": [
    "Loop de entrenamiento"
   ]
  },
  {
   "cell_type": "code",
   "execution_count": 22,
   "id": "b9c7ad7c",
   "metadata": {},
   "outputs": [
    {
     "name": "stdout",
     "output_type": "stream",
     "text": [
      "w0=  0.30 w1= -0.50 w2=  0.35\n"
     ]
    }
   ],
   "source": [
    "all_correct=False\n",
    "while not all_correct:\n",
    "    all_correct=True\n",
    "    random.shuffle(index_list)\n",
    "    for i in index_list:\n",
    "        x=x_train[i]\n",
    "        y=y_train[i]\n",
    "        y_pred=compute_output(w,x)\n",
    "        if y!=y_pred:\n",
    "            for j in range(0,len(w)):\n",
    "                w[j]+=(y*LEARNING_RATE*x[j])\n",
    "            all_correct=False\n",
    "            show_learning(w)"
   ]
  }
 ],
 "metadata": {
  "kernelspec": {
   "display_name": "torch-mps",
   "language": "python",
   "name": "python3"
  },
  "language_info": {
   "codemirror_mode": {
    "name": "ipython",
    "version": 3
   },
   "file_extension": ".py",
   "mimetype": "text/x-python",
   "name": "python",
   "nbconvert_exporter": "python",
   "pygments_lexer": "ipython3",
   "version": "3.12.11"
  }
 },
 "nbformat": 4,
 "nbformat_minor": 5
}
